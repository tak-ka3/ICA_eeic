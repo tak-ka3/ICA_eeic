{
 "cells": [
  {
   "cell_type": "code",
   "execution_count": 1,
   "metadata": {},
   "outputs": [],
   "source": [
    "import numpy as np\n",
    "from scipy.io import wavfile\n",
    "rate_m1, data1 = wavfile.read('music1.wav')\n",
    "rate_m2, data2 = wavfile.read('music2.wav')\n",
    "# オーバーフロー対策\n",
    "data_m1 = np.array(data1, dtype = 'float64')\n",
    "data_m2 = np.array(data2, dtype = 'float64')\n",
    "\n",
    "# 必要な関数\n",
    "# 正規化する関数\n",
    "def normalization(m):\n",
    "    m[0] = m[0] / np.linalg.norm(m[0])\n",
    "    m[1] = m[1] / np.linalg.norm(m[1])\n",
    "    return m\n",
    "\n",
    "# 収束条件を管理する関数\n",
    "def change(w_before, w):\n",
    "    wp = w_before -w\n",
    "    if abs(wp[0, 0]) < 0.01 and abs(wp[0, 1]) < 0.01 and abs(wp[1, 0]) < 0.01 and abs(wp[1, 1]) < 0.01:\n",
    "        return 1\n",
    "    \n",
    "def ica(array1, array2):\n",
    "    # データの長さを取得\n",
    "    N = len(array1)\n",
    "    \n",
    "    # 平均を0にする\n",
    "    ave_1 = np.mean(array1)\n",
    "    ave_2 = np.mean(array2)\n",
    "    array1 -= ave_1\n",
    "    array2 -= ave_2\n",
    "    \n",
    "    X = np.matrix([array1, array2])\n",
    "    # シグマ行列の計算\n",
    "    cov_mat = np.matrix([[np.dot(array1, array1), np.dot(array1, array2)], [np.dot(array2, array1), np.dot(array2, array2)]]) * (1/N)\n",
    "\n",
    "    # 固有値の導出\n",
    "    eig_val = np.linalg.eig(cov_mat)[0]\n",
    "\n",
    "    # 固有ベクトル(対角行列)の導出\n",
    "    E = np.linalg.eig(cov_mat)[1]    \n",
    "\n",
    "    D = np.matrix([[eig_val[0], 0], [0, eig_val[1]]])\n",
    "    D_2 = np.matrix([[(eig_val[0])**(-0.5), 0], [0, (eig_val[1])**(-0.5)]])\n",
    "\n",
    "    # V, Z行列の導出\n",
    "    v_i = np.dot(E, D_2)\n",
    "    V = np.dot(v_i, E.T)\n",
    "\n",
    "    # Z行列の導出\n",
    "    Z = np.dot(V, X)\n",
    "\n",
    "    # Zの共分散行列が単位行列になることを確認\n",
    "    z0, z1 = np.array(Z[0]), np.array(Z[1])\n",
    "    Z_cov = np.matrix([[float(np.dot(z0, z0.T)), float(np.dot(z0, z1.T))], [float(np.dot(z1, z0.T)), float(np.dot(z1, z1.T))]]) * (1/N)\n",
    "\n",
    "    w = np.matrix([[0.5, -1.0], [9.0, -1.0]])\n",
    "    w = normalization(w)\n",
    "    \n",
    "    cnt = 0\n",
    "    while True:\n",
    "        w_before = w.copy()\n",
    "        for i in range(2):\n",
    "            a = np.dot(w[i], Z)\n",
    "            a = pow(np.array(a), 3)\n",
    "            a = np.array(a).flatten()\n",
    "            ll_1 = np.array([Z[0, i] * a[i] for i in range(N)])\n",
    "            ll_2 = np.array([Z[1, i] * a[i] for i in range(N)])\n",
    "            val0 = np.sum(ll_1) / N\n",
    "            val1 = np.sum(ll_2) / N\n",
    "            w[i] = np.array([val0, val1]) - w[i] *3\n",
    "        w = normalization(w)\n",
    "        if w[0, 0] < 0:\n",
    "            w *= (-1)\n",
    "        if change(w_before, w) == 1:\n",
    "            break\n",
    "\n",
    "    # 信号源データの取得\n",
    "    Y = np.dot(w, Z)\n",
    "    return Y"
   ]
  },
  {
   "cell_type": "code",
   "execution_count": 2,
   "metadata": {},
   "outputs": [],
   "source": [
    "Y = ica(data_m1, data_m2)"
   ]
  },
  {
   "cell_type": "code",
   "execution_count": 3,
   "metadata": {},
   "outputs": [],
   "source": [
    "# 音声ファイルへの書き込み\n",
    "wavfile.write('out_music_1.wav', rate_m1, np.array(Y[0]).flatten())\n",
    "wavfile.write('out_music_2.wav', rate_m2, np.array(Y[1]).flatten())"
   ]
  },
  {
   "cell_type": "code",
   "execution_count": null,
   "metadata": {},
   "outputs": [],
   "source": []
  }
 ],
 "metadata": {
  "kernelspec": {
   "display_name": "Python 3",
   "language": "python",
   "name": "python3"
  },
  "language_info": {
   "codemirror_mode": {
    "name": "ipython",
    "version": 3
   },
   "file_extension": ".py",
   "mimetype": "text/x-python",
   "name": "python",
   "nbconvert_exporter": "python",
   "pygments_lexer": "ipython3",
   "version": "3.7.9"
  }
 },
 "nbformat": 4,
 "nbformat_minor": 4
}
