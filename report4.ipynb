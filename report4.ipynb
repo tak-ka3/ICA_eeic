{
 "cells": [
  {
   "cell_type": "code",
   "execution_count": 6,
   "id": "immune-departure",
   "metadata": {},
   "outputs": [],
   "source": [
    "from PIL import Image\n",
    "import numpy as np\n",
    "\n",
    "# 画像を読み取る\n",
    "im1 = np.array(Image.open('./aisatsu1.png').convert('L'))\n",
    "im2 = np.array(Image.open('./aisatsu2.png').convert('L'))\n",
    "\n",
    "im1_one = im1.reshape(-1).astype(np.float64)\n",
    "im1_shape = im1.shape\n",
    "im2_one = im2.reshape(-1).astype(np.float64)\n",
    "im2_shape = im2.shape\n",
    "\n",
    "# 必要な関数\n",
    "# 正規化する関数\n",
    "def normalization(m):\n",
    "    m[0] = m[0] / np.linalg.norm(m[0])\n",
    "    m[1] = m[1] / np.linalg.norm(m[1])\n",
    "    return m\n",
    "\n",
    "# 収束条件を管理する関数\n",
    "def change(w_before, w):\n",
    "    wp = w_before -w\n",
    "    if abs(wp[0, 0]) < 0.01 and abs(wp[0, 1]) < 0.01 and abs(wp[1, 0]) < 0.01 and abs(wp[1, 1]) < 0.01:\n",
    "        return 1\n",
    "\n",
    "# ICAの関数\n",
    "def ica(array1, array2):\n",
    "    # データの長さを取得\n",
    "    N = len(array1)\n",
    "   \n",
    "    # 平均を0にする\n",
    "    ave_1 = np.mean(array1)\n",
    "    ave_2 = np.mean(array2)\n",
    "    array1 -= ave_1\n",
    "    array2 -= ave_2\n",
    "\n",
    "    X = np.matrix([array1, array2])\n",
    "    \n",
    "    # シグマ行列の計算\n",
    "    cov_mat = np.matrix([[np.dot(array1, array1), np.dot(array1, array2)], [np.dot(array2, array1), np.dot(array2, array2)]]) * (1/N)\n",
    "\n",
    "    # 固有値の導出\n",
    "    eig_val = np.linalg.eig(cov_mat)[0]\n",
    "\n",
    "    # 固有ベクトル(対角行列)の導出\n",
    "    E = np.linalg.eig(cov_mat)[1]    \n",
    "\n",
    "    D = np.matrix([[eig_val[0], 0], [0, eig_val[1]]])\n",
    "    D_2 = np.matrix([[(eig_val[0])**(-0.5), 0], [0, (eig_val[1])**(-0.5)]])\n",
    "\n",
    "    # V, Z行列の導出\n",
    "    v_i = np.dot(E, D_2)\n",
    "    V = np.dot(v_i, E.T)\n",
    "\n",
    "    # Z行列の導出\n",
    "    Z = np.dot(V, X)\n",
    "\n",
    "    # Zの共分散行列が単位行列になることを確認\n",
    "    z0, z1 = np.array(Z[0]), np.array(Z[1])\n",
    "    Z_cov = np.matrix([[float(np.dot(z0, z0.T)), float(np.dot(z0, z1.T))], [float(np.dot(z1, z0.T)), float(np.dot(z1, z1.T))]]) * (1/N)\n",
    "\n",
    "    w = np.matrix([[-10.0,3.0], [1.0, -2.0]])\n",
    "    w = normalization(w)\n",
    "    \n",
    "    cnt = 0\n",
    "    while True:\n",
    "        w_before = w.copy()\n",
    "        for i in range(2):\n",
    "            a = np.dot(w[i], Z)\n",
    "            a = pow(np.array(a), 3)\n",
    "            a = np.array(a).flatten()\n",
    "            ll_1 = np.array([Z[0, i] * a[i] for i in range(N)])\n",
    "            ll_2 = np.array([Z[1, i] * a[i] for i in range(N)])\n",
    "            val0 = np.sum(ll_1) / N\n",
    "            val1 = np.sum(ll_2) / N\n",
    "            w[i] = np.array([val0, val1]) - w[i] *3\n",
    "        w = normalization(w)\n",
    "        if w[0, 0] < 0:\n",
    "            w *= (-1)\n",
    "        if change(w_before, w) == 1:\n",
    "            break\n",
    "\n",
    "    # 信号源データの取得\n",
    "    Y = np.dot(w, Z)\n",
    "    return Y\n",
    "\n",
    "y = ica(im1_one, im2_one)\n",
    "\n",
    "# 正規化\n",
    "diff_1 = np.max(y[0]) - np.min(y[0])\n",
    "y[0] = (y[0] - np.min(y[0])) / diff_1\n",
    "diff_2 = np.max(y[1]) - np.min(y[1])\n",
    "y[1] = (y[1] - np.min(y[1])) / diff_2\n",
    "\n",
    "# 画素にする\n",
    "y[0] = y[0]  *255\n",
    "y[1] = y[1]  *255\n",
    "\n",
    "# 形を直す\n",
    "pic_1 = Image.fromarray(y[0].reshape(im1_shape).astype(np.uint8))\n",
    "pic_2 = Image.fromarray(y[1].reshape(im2_shape).astype(np.uint8))\n",
    "\n",
    "# 保存\n",
    "pic_1.save('./out_aisatsu1.png')\n",
    "pic_2.save('./out_aisatsu2.png')"
   ]
  },
  {
   "cell_type": "code",
   "execution_count": 7,
   "id": "authorized-empire",
   "metadata": {},
   "outputs": [
    {
     "data": {
      "image/png": "[encoded data removed]",
      "text/plain": [
       "<Figure size 432x288 with 1 Axes>"
      ]
     },
     "metadata": {
      "needs_background": "light"
     },
     "output_type": "display_data"
    }
   ],
   "source": [
    "import matplotlib.pyplot as plt\n",
    "plt.imshow(pic_1, cmap = 'gray')\n",
    "plt.show()"
   ]
  },
  {
   "cell_type": "code",
   "execution_count": 8,
   "id": "favorite-oliver",
   "metadata": {},
   "outputs": [
    {
     "data": {
      "image/png": "[encoded data removed]",
      "text/plain": [
       "<Figure size 432x288 with 1 Axes>"
      ]
     },
     "metadata": {
      "needs_background": "light"
     },
     "output_type": "display_data"
    }
   ],
   "source": [
    "plt.imshow(pic_2, cmap = 'gray')\n",
    "plt.show()"
   ]
  },
  {
   "cell_type": "code",
   "execution_count": null,
   "id": "union-active",
   "metadata": {},
   "outputs": [],
   "source": []
  }
 ],
 "metadata": {
  "kernelspec": {
   "display_name": "Python 3",
   "language": "python",
   "name": "python3"
  },
  "language_info": {
   "codemirror_mode": {
    "name": "ipython",
    "version": 3
   },
   "file_extension": ".py",
   "mimetype": "text/x-python",
   "name": "python",
   "nbconvert_exporter": "python",
   "pygments_lexer": "ipython3",
   "version": "3.7.9"
  }
 },
 "nbformat": 4,
 "nbformat_minor": 5
}
